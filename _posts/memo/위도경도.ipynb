## 주소를 위도경도로 변경하는 법

{
 "cells": [
  {
   "cell_type": "code",
   "execution_count": 2,
   "metadata": {},
   "outputs": [],
   "source": [
    "import requests\n",
    "from urllib.parse import urlparse\n",
    "import geopandas\n",
    "import pandas as pd\n",
    "add= pd.read_csv(\"서울교통공사 지하철역 주소 및 전화번호 정보.csv\",engine='python',encoding='CP949')"
   ]
  },
  {
   "cell_type": "code",
   "execution_count": 18,
   "metadata": {},
   "outputs": [],
   "source": [
    "def address_to_loaction(address):\n",
    "    global val\n",
    "    url = 'https://dapi.kakao.com/v2/local/search/address.json?query='+address\n",
    "    result=requests.get(urlparse(url).geturl(),\n",
    "                            headers = {\"Authorization\": 'KakaoAK 9eccf65cdd674a9067172090d1b7c2b2'})\n",
    "    json_obj=result.json()\n",
    "    for document in json_obj['documents']:\n",
    "        val =[document['road_address']['building_name'], document['address_name'],document['y'], document['x']]\n",
    "    return val"
   ]
  },
  {
   "cell_type": "code",
   "execution_count": 19,
   "metadata": {
    "scrolled": true
   },
   "outputs": [
    {
     "data": {
      "text/plain": [
       "['제기동역', '서울 동대문구 왕산로 지하 93', '37.5781967284885', '127.034690599752']"
      ]
     },
     "execution_count": 19,
     "metadata": {},
     "output_type": "execute_result"
    }
   ],
   "source": [
    "address_to_loaction('서울특별시 동대문구 왕산로 지하 93 (제기동) (제기동역)')"
   ]
  },
  {
   "cell_type": "code",
   "execution_count": 21,
   "metadata": {},
   "outputs": [
    {
     "data": {
      "text/html": [
       "<div>\n",
       "<style scoped>\n",
       "    .dataframe tbody tr th:only-of-type {\n",
       "        vertical-align: middle;\n",
       "    }\n",
       "\n",
       "    .dataframe tbody tr th {\n",
       "        vertical-align: top;\n",
       "    }\n",
       "\n",
       "    .dataframe thead th {\n",
       "        text-align: right;\n",
       "    }\n",
       "</style>\n",
       "<table border=\"1\" class=\"dataframe\">\n",
       "  <thead>\n",
       "    <tr style=\"text-align: right;\">\n",
       "      <th></th>\n",
       "      <th>1</th>\n",
       "      <th>2</th>\n",
       "      <th>lat</th>\n",
       "      <th>lon</th>\n",
       "    </tr>\n",
       "  </thead>\n",
       "  <tbody>\n",
       "    <tr>\n",
       "      <th>0</th>\n",
       "      <td>청량리역</td>\n",
       "      <td>서울 동대문구 왕산로 지하 205</td>\n",
       "      <td>37.5802331563072</td>\n",
       "      <td>127.045085886324</td>\n",
       "    </tr>\n",
       "    <tr>\n",
       "      <th>1</th>\n",
       "      <td>제기동역</td>\n",
       "      <td>서울 동대문구 왕산로 지하 93</td>\n",
       "      <td>37.5781967284885</td>\n",
       "      <td>127.034690599752</td>\n",
       "    </tr>\n",
       "    <tr>\n",
       "      <th>2</th>\n",
       "      <td>신설동역</td>\n",
       "      <td>서울 동대문구 왕산로 지하 1</td>\n",
       "      <td>37.5753194830738</td>\n",
       "      <td>127.024701893044</td>\n",
       "    </tr>\n",
       "    <tr>\n",
       "      <th>3</th>\n",
       "      <td>동묘앞역</td>\n",
       "      <td>서울 종로구 종로 359</td>\n",
       "      <td>37.5733722075697</td>\n",
       "      <td>127.01675118037</td>\n",
       "    </tr>\n",
       "    <tr>\n",
       "      <th>4</th>\n",
       "      <td>1호선 동대문역</td>\n",
       "      <td>서울 종로구 종로 지하 302</td>\n",
       "      <td>37.5717775660734</td>\n",
       "      <td>127.011167102297</td>\n",
       "    </tr>\n",
       "    <tr>\n",
       "      <th>...</th>\n",
       "      <td>...</td>\n",
       "      <td>...</td>\n",
       "      <td>...</td>\n",
       "      <td>...</td>\n",
       "    </tr>\n",
       "    <tr>\n",
       "      <th>116</th>\n",
       "      <td>4호선 이촌역</td>\n",
       "      <td>서울 용산구 서빙고로 지하 83</td>\n",
       "      <td>37.522520254623</td>\n",
       "      <td>126.973683151228</td>\n",
       "    </tr>\n",
       "    <tr>\n",
       "      <th>117</th>\n",
       "      <td>4호선 동작역 Dongjak s.t</td>\n",
       "      <td>서울 동작구 현충로 257</td>\n",
       "      <td>37.5028703671011</td>\n",
       "      <td>126.980268385443</td>\n",
       "    </tr>\n",
       "    <tr>\n",
       "      <th>118</th>\n",
       "      <td>총신대입구(이수)역4호선</td>\n",
       "      <td>서울 동작구 동작대로 지하 117</td>\n",
       "      <td>37.4875538278198</td>\n",
       "      <td>126.982199707405</td>\n",
       "    </tr>\n",
       "    <tr>\n",
       "      <th>119</th>\n",
       "      <td>사당역(4호선)</td>\n",
       "      <td>서울 동작구 동작대로 지하 3</td>\n",
       "      <td>37.4768632653727</td>\n",
       "      <td>126.981595139341</td>\n",
       "    </tr>\n",
       "    <tr>\n",
       "      <th>120</th>\n",
       "      <td>남태령역</td>\n",
       "      <td>서울 서초구 과천대로 지하 816</td>\n",
       "      <td>37.4648575576518</td>\n",
       "      <td>126.988656544337</td>\n",
       "    </tr>\n",
       "  </tbody>\n",
       "</table>\n",
       "<p>121 rows × 4 columns</p>\n",
       "</div>"
      ],
      "text/plain": [
       "                       1                   2               lat  \\\n",
       "0                   청량리역  서울 동대문구 왕산로 지하 205  37.5802331563072   \n",
       "1                   제기동역   서울 동대문구 왕산로 지하 93  37.5781967284885   \n",
       "2                   신설동역    서울 동대문구 왕산로 지하 1  37.5753194830738   \n",
       "3                   동묘앞역       서울 종로구 종로 359  37.5733722075697   \n",
       "4               1호선 동대문역    서울 종로구 종로 지하 302  37.5717775660734   \n",
       "..                   ...                 ...               ...   \n",
       "116              4호선 이촌역   서울 용산구 서빙고로 지하 83   37.522520254623   \n",
       "117  4호선 동작역 Dongjak s.t      서울 동작구 현충로 257  37.5028703671011   \n",
       "118        총신대입구(이수)역4호선  서울 동작구 동작대로 지하 117  37.4875538278198   \n",
       "119             사당역(4호선)    서울 동작구 동작대로 지하 3  37.4768632653727   \n",
       "120                 남태령역  서울 서초구 과천대로 지하 816  37.4648575576518   \n",
       "\n",
       "                  lon  \n",
       "0    127.045085886324  \n",
       "1    127.034690599752  \n",
       "2    127.024701893044  \n",
       "3     127.01675118037  \n",
       "4    127.011167102297  \n",
       "..                ...  \n",
       "116  126.973683151228  \n",
       "117  126.980268385443  \n",
       "118  126.982199707405  \n",
       "119  126.981595139341  \n",
       "120  126.988656544337  \n",
       "\n",
       "[121 rows x 4 columns]"
      ]
     },
     "execution_count": 21,
     "metadata": {},
     "output_type": "execute_result"
    }
   ],
   "source": [
    "list=[]\n",
    "\n",
    "for address in add[\"도로명주소\"]:\n",
    "    list.append(address_to_loaction(address))\n",
    "df1=pd.DataFrame(list,columns=['1','2','lat','lon'])\n",
    "df1"
   ]
  },
  {
   "cell_type": "code",
   "execution_count": 24,
   "metadata": {},
   "outputs": [],
   "source": [
    "df1.to_csv('D:/위도경도.csv',index=False)"
   ]
  },
  {
   "cell_type": "code",
   "execution_count": null,
   "metadata": {},
   "outputs": [],
   "source": []
  }
 ],
 "metadata": {
  "kernelspec": {
   "display_name": "Python 3",
   "language": "python",
   "name": "python3"
  },
  "language_info": {
   "codemirror_mode": {
    "name": "ipython",
    "version": 3
   },
   "file_extension": ".py",
   "mimetype": "text/x-python",
   "name": "python",
   "nbconvert_exporter": "python",
   "pygments_lexer": "ipython3",
   "version": "3.8.8"
  }
 },
 "nbformat": 4,
 "nbformat_minor": 4
}
